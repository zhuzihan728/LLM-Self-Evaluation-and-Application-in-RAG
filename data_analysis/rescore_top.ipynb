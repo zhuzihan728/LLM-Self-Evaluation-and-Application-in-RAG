{
 "cells": [
  {
   "cell_type": "code",
   "execution_count": 49,
   "metadata": {},
   "outputs": [],
   "source": [
    "from utils import load_file\n",
    "import numpy as np"
   ]
  },
  {
   "cell_type": "code",
   "execution_count": 50,
   "metadata": {},
   "outputs": [],
   "source": [
    "res_path = r\"eval_res\\selfrag-pqa-fullspan.json\"\n",
    "data_path = r\"eval_data\\popqa_longtail_w_gs.jsonl\""
   ]
  },
  {
   "cell_type": "code",
   "execution_count": 51,
   "metadata": {},
   "outputs": [],
   "source": [
    "data = load_file(data_path)\n",
    "res = load_file(res_path)"
   ]
  },
  {
   "cell_type": "code",
   "execution_count": 52,
   "metadata": {},
   "outputs": [
    {
     "data": {
      "text/plain": [
       "dict_keys(['question', 'answers', 'prop', 's_wiki_title', 'id', 'pop', 'ctxs'])"
      ]
     },
     "execution_count": 52,
     "metadata": {},
     "output_type": "execute_result"
    }
   ],
   "source": [
    "data[0].keys()"
   ]
  },
  {
   "cell_type": "code",
   "execution_count": 53,
   "metadata": {},
   "outputs": [
    {
     "data": {
      "text/plain": [
       "dict_keys(['no_retrieval', 'no_retrieval_ids', 'no_retrieval_log_probs', 'all_doc_retrieval', 'all_doc_retrieval_ids', 'all_doc_retrieval_log_probs', 'retrieval', 'retrieval_token_ids', 'retrieval_log_probs', 'retrieval_p', 'retrieval_res', 'question_id', 'gold'])"
      ]
     },
     "execution_count": 53,
     "metadata": {},
     "output_type": "execute_result"
    }
   ],
   "source": [
    "res['results'][0].keys()"
   ]
  },
  {
   "cell_type": "code",
   "execution_count": 54,
   "metadata": {},
   "outputs": [
    {
     "data": {
      "text/plain": [
       "dict_keys(['pred', 'score', 'id_log_probs', 'token_ids'])"
      ]
     },
     "execution_count": 54,
     "metadata": {},
     "output_type": "execute_result"
    }
   ],
   "source": [
    "res['results'][0]['retrieval_res']['retrieval_0'].keys()"
   ]
  },
  {
   "cell_type": "code",
   "execution_count": 55,
   "metadata": {},
   "outputs": [],
   "source": [
    "def false_invperplexity(ret_res):\n",
    "    return np.sum(ret_res['id_log_probs']) / max(1, len(ret_res['token_ids']))\n",
    "\n",
    "def true_invperplexity(ret_res):\n",
    "    return np.sum(ret_res['id_log_probs']) / max(1, len(ret_res['id_log_probs']))"
   ]
  },
  {
   "cell_type": "code",
   "execution_count": 56,
   "metadata": {},
   "outputs": [],
   "source": [
    "def recompute_score(ret_res):\n",
    "    res = ret_res.copy()\n",
    "    ret_prefix = ['retrieval_0', 'retrieval_1', 'retrieval_2', 'retrieval_3', 'retrieval_4']\n",
    "    for prefix in ret_prefix:\n",
    "        global res_path\n",
    "        assert len(res_path) > 0\n",
    "        if 'selfrag' in res_path:\n",
    "            assert false_invperplexity(ret_res[prefix]) != true_invperplexity(ret_res[prefix])\n",
    "            score = ret_res[prefix]['score'] - false_invperplexity(ret_res[prefix]) + true_invperplexity(ret_res[prefix])\n",
    "            \n",
    "        else:\n",
    "            score = true_invperplexity(ret_res[prefix])\n",
    "        res[prefix]['score'] = score\n",
    "    return res\n",
    "        "
   ]
  },
  {
   "cell_type": "code",
   "execution_count": 57,
   "metadata": {},
   "outputs": [],
   "source": [
    "for i in res['results']:\n",
    "    i['retrieval_res'] = recompute_score(i['retrieval_res'])\n",
    "    if 'arc' in res_path or 'health' in res_path:\n",
    "        raise NotImplementedError\n",
    "    else:\n",
    "        path2score = {key: item[\"score\"] for key,\n",
    "                        item in i['retrieval_res'].items()}\n",
    "        best_path = sorted(path2score.items(),\n",
    "                            key=lambda x: x[1], reverse=True)[0][0]\n",
    "        best_option = i['retrieval_res'][best_path][\"pred\"]\n",
    "        token_ids = i['retrieval_res'][best_path][\"token_ids\"]\n",
    "        id_log_probs =i['retrieval_res'][best_path][\"id_log_probs\"]\n",
    "        i[\"best_one\"] = i['retrieval_res'][best_path]\n",
    "    \n",
    "    i[\"retrieval\"] = best_option\n",
    "    i[\"retrieval_token_ids\"] = token_ids\n",
    "    i[\"retrieval_log_probs\"] = id_log_probs\n",
    "        "
   ]
  },
  {
   "cell_type": "code",
   "execution_count": 58,
   "metadata": {},
   "outputs": [],
   "source": [
    "\n",
    "import json\n",
    "with open(res_path.replace(\".json\", \"_recomputed.json\"), 'w') as f:\n",
    "    json.dump(res, f)"
   ]
  }
 ],
 "metadata": {
  "kernelspec": {
   "display_name": "Python 3",
   "language": "python",
   "name": "python3"
  },
  "language_info": {
   "codemirror_mode": {
    "name": "ipython",
    "version": 3
   },
   "file_extension": ".py",
   "mimetype": "text/x-python",
   "name": "python",
   "nbconvert_exporter": "python",
   "pygments_lexer": "ipython3",
   "version": "3.11.5"
  }
 },
 "nbformat": 4,
 "nbformat_minor": 2
}
