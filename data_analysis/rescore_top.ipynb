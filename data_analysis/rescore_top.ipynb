{
 "cells": [
  {
   "cell_type": "code",
   "execution_count": 44,
   "metadata": {},
   "outputs": [],
   "source": [
    "from utils import load_file, postprocess_answer_option_conditioned\n",
    "import numpy as np"
   ]
  },
  {
   "cell_type": "code",
   "execution_count": null,
   "metadata": {},
   "outputs": [],
   "source": []
  },
  {
   "cell_type": "code",
   "execution_count": 45,
   "metadata": {},
   "outputs": [],
   "source": [
    "res_path = r\"eval_res\\llama2chat-pqa_fullspan-default-prompt.json\"\n",
    "data_path = r\"eval_data\\popqa_longtail_w_gs.jsonl\"\n",
    "data = load_file(data_path)\n",
    "res = load_file(res_path)"
   ]
  },
  {
   "cell_type": "code",
   "execution_count": 46,
   "metadata": {},
   "outputs": [
    {
     "data": {
      "text/plain": [
       "dict_keys(['question', 'answers', 'prop', 's_wiki_title', 'id', 'pop', 'ctxs'])"
      ]
     },
     "execution_count": 46,
     "metadata": {},
     "output_type": "execute_result"
    }
   ],
   "source": [
    "data[0].keys()"
   ]
  },
  {
   "cell_type": "code",
   "execution_count": 47,
   "metadata": {},
   "outputs": [
    {
     "data": {
      "text/plain": [
       "dict_keys(['no_retrieval', 'no_retrieval_ids', 'no_retrieval_log_probs', 'all_doc_retrieval', 'all_doc_retrieval_ids', 'all_doc_retrieval_log_probs', 'retrieval', 'retrieval_token_ids', 'retrieval_log_probs', 'retrieval_res', 'question_id', 'gold'])"
      ]
     },
     "execution_count": 47,
     "metadata": {},
     "output_type": "execute_result"
    }
   ],
   "source": [
    "res['results'][0].keys()"
   ]
  },
  {
   "cell_type": "code",
   "execution_count": 48,
   "metadata": {},
   "outputs": [
    {
     "data": {
      "text/plain": [
       "dict_keys(['pred', 'score', 'id_log_probs', 'token_ids'])"
      ]
     },
     "execution_count": 48,
     "metadata": {},
     "output_type": "execute_result"
    }
   ],
   "source": [
    "res['results'][0]['retrieval_res']['retrieval_0'].keys()"
   ]
  },
  {
   "cell_type": "code",
   "execution_count": 49,
   "metadata": {},
   "outputs": [],
   "source": []
  },
  {
   "cell_type": "code",
   "execution_count": 50,
   "metadata": {},
   "outputs": [],
   "source": [
    "\n",
    "def false_invperplexity(ret_ind):\n",
    "    return np.sum(ret_ind['id_log_probs']) / max(1, len(ret_ind['token_ids']))\n",
    "\n",
    "def true_invperplexity(ret_ind):\n",
    "    return np.sum(ret_ind['id_log_probs']) / max(1, len(ret_ind['id_log_probs']))\n",
    "\n",
    "def recompute_score_inv_perplexity(ret_res, is_selfrag):\n",
    "    \"\"\"pass res['retrieval_res']\"\"\"\n",
    "    \n",
    "    res = ret_res.copy()\n",
    "    ret_prefix = ['retrieval_0', 'retrieval_1', 'retrieval_2', 'retrieval_3', 'retrieval_4']\n",
    "    for prefix in ret_prefix:\n",
    "        if is_selfrag:\n",
    "            score = ret_res[prefix]['score'] - false_invperplexity(ret_res[prefix]) + true_invperplexity(ret_res[prefix])\n",
    "        else:\n",
    "            assert false_invperplexity(ret_res[prefix]) - ret_res[prefix]['score'] < 1e-5\n",
    "            score = true_invperplexity(ret_res[prefix])\n",
    "        res[prefix]['score'] = score\n",
    "    return res\n",
    "        "
   ]
  },
  {
   "cell_type": "code",
   "execution_count": 51,
   "metadata": {},
   "outputs": [],
   "source": [
    "def recompute_score(ret_res, recompute_fn, is_closed):\n",
    "    ret_res = ret_res.copy()\n",
    "    for i in ret_res:\n",
    "        i['retrieval_res'] = recompute_fn(i['retrieval_res'])\n",
    "        if is_closed:\n",
    "            answer2score = {}\n",
    "            for key, result in i['retrieval_res'].items():\n",
    "                answer = postprocess_answer_option_conditioned(result[\"pred\"])\n",
    "                if len(answer.split()) > 0:\n",
    "                    answer = answer.split()[0]\n",
    "                score = result[\"score\"]\n",
    "                answer2score.setdefault(answer, 0)\n",
    "                answer2score[answer] += score\n",
    "            sorted_answers = sorted(\n",
    "                answer2score.items(), key=lambda x: x[1], reverse=True)\n",
    "            best_option = sorted_answers[0][0]\n",
    "            hit_results = {key: item for key, item in i['retrieval_res'].items() if postprocess_answer_option_conditioned(item[\"pred\"]).startswith(best_option)}\n",
    "            \n",
    "            path2score = {key: item[\"score\"] for key,\n",
    "                            item in hit_results.items()}\n",
    "            best_path = sorted(path2score.items(),\n",
    "                                key=lambda x: x[1], reverse=True)[0][0]\n",
    "            i[\"best_one\"] = i['retrieval_res'][best_path]\n",
    "            best_option = i['retrieval_res'][best_path][\"pred\"]\n",
    "            token_ids = i['retrieval_res'][best_path][\"token_ids\"]\n",
    "            id_log_probs = i['retrieval_res'][best_path][\"id_log_probs\"]\n",
    "        else:\n",
    "            path2score = {key: item[\"score\"] for key,\n",
    "                            item in i['retrieval_res'].items()}\n",
    "            best_path = sorted(path2score.items(),\n",
    "                                key=lambda x: x[1], reverse=True)[0][0]\n",
    "            best_option = i['retrieval_res'][best_path][\"pred\"]\n",
    "            token_ids = i['retrieval_res'][best_path][\"token_ids\"]\n",
    "            id_log_probs =i['retrieval_res'][best_path][\"id_log_probs\"]\n",
    "            i[\"best_one\"] = i['retrieval_res'][best_path]\n",
    "        \n",
    "        i[\"retrieval\"] = best_option\n",
    "        i[\"retrieval_token_ids\"] = token_ids\n",
    "        i[\"retrieval_log_probs\"] = id_log_probs\n",
    "    return ret_res\n",
    "        "
   ]
  },
  {
   "cell_type": "code",
   "execution_count": 52,
   "metadata": {},
   "outputs": [],
   "source": [
    "\n",
    "import json\n",
    "with open(res_path.replace(\".json\", \"_recomputed.json\"), 'w') as f:\n",
    "    json.dump(res, f)"
   ]
  }
 ],
 "metadata": {
  "kernelspec": {
   "display_name": "Python 3",
   "language": "python",
   "name": "python3"
  },
  "language_info": {
   "codemirror_mode": {
    "name": "ipython",
    "version": 3
   },
   "file_extension": ".py",
   "mimetype": "text/x-python",
   "name": "python",
   "nbconvert_exporter": "python",
   "pygments_lexer": "ipython3",
   "version": "3.10.10"
  }
 },
 "nbformat": 4,
 "nbformat_minor": 2
}
