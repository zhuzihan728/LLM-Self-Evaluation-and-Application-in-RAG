{
 "cells": [
  {
   "cell_type": "code",
   "execution_count": 28,
   "metadata": {},
   "outputs": [],
   "source": [
    "from utils import *\n",
    "import numpy as np\n",
    "import json"
   ]
  },
  {
   "cell_type": "code",
   "execution_count": 29,
   "metadata": {},
   "outputs": [],
   "source": [
    "res_file = \"eval_res\\llamachat-pqa_fullspan-default-prompt.json\"\n",
    "\n",
    "data_file = \"eval_data\\popqa_longtail_w_gs.jsonl\"\n"
   ]
  },
  {
   "cell_type": "code",
   "execution_count": 30,
   "metadata": {},
   "outputs": [],
   "source": [
    "def preprocess_input_data(dataset, task=None):\n",
    "    new_data = []\n",
    "    \n",
    "    if task in TASK_INST:\n",
    "        instruction = TASK_INST[task]\n",
    "    else:\n",
    "        instruction = None\n",
    "    for item in dataset:\n",
    "        if task == \"arc_c\":\n",
    "            choices = item[\"choices\"]\n",
    "            answer_labels = {}\n",
    "            for i in range(len(choices[\"label\"])):\n",
    "                answer_key = choices[\"label\"][i]\n",
    "                text = choices[\"text\"][i]\n",
    "                if answer_key == \"1\":\n",
    "                    answer_labels[\"A\"] = text\n",
    "                if answer_key == \"2\":\n",
    "                    answer_labels[\"B\"] = text\n",
    "                if answer_key == \"3\":\n",
    "                    answer_labels[\"C\"] = text\n",
    "                if answer_key == \"4\":\n",
    "                    answer_labels[\"D\"] = text\n",
    "                if answer_key in [\"A\", \"B\", \"C\", \"D\"]:\n",
    "                    answer_labels[answer_key] = text\n",
    "\n",
    "            if \"D\" not in answer_labels:\n",
    "                answer_labels[\"D\"] = \"\"\n",
    "            choices = \"\\nA: {0}\\nB: {1}\\nC: {2}\\nD: {3}\".format(\n",
    "                answer_labels[\"A\"], answer_labels[\"B\"], answer_labels[\"C\"], answer_labels[\"D\"])\n",
    "            if \"E\" in answer_labels:\n",
    "                choices += \"\\nE: {}\".format(answer_labels[\"E\"])\n",
    "            item[\"instruction\"] = item[\"question\"] + choices\n",
    "            item[\"answers\"] = [item[\"answerKey\"]]\n",
    "        else:\n",
    "            item[\"instruction\"] = item[\"question\"]\n",
    "        item[\"instruction\"] = instruction + \"\\n\\n\" + item[\"instruction\"] if instruction is not None else item[\"instruction\"]\n",
    "        new_data.append(item)\n",
    "\n",
    "    return new_data"
   ]
  },
  {
   "cell_type": "code",
   "execution_count": 31,
   "metadata": {},
   "outputs": [],
   "source": [
    "res = load_file(res_file)\n",
    "res = res['results']\n",
    "data = load_file(data_file)\n",
    "data = preprocess_input_data(data, task=\"pqa\")\n",
    "assert len(res) == len(data)"
   ]
  },
  {
   "cell_type": "code",
   "execution_count": 32,
   "metadata": {},
   "outputs": [
    {
     "data": {
      "text/plain": [
       "dict_keys(['no_retrieval', 'no_retrieval_ids', 'no_retrieval_log_probs', 'all_doc_retrieval', 'all_doc_retrieval_ids', 'all_doc_retrieval_log_probs', 'retrieval', 'retrieval_token_ids', 'retrieval_log_probs', 'retrieval_res', 'question_id', 'gold'])"
      ]
     },
     "execution_count": 32,
     "metadata": {},
     "output_type": "execute_result"
    }
   ],
   "source": [
    "res[0].keys()"
   ]
  },
  {
   "cell_type": "code",
   "execution_count": 33,
   "metadata": {},
   "outputs": [
    {
     "data": {
      "text/plain": [
       "dict_keys(['pred', 'score', 'id_log_probs', 'token_ids'])"
      ]
     },
     "execution_count": 33,
     "metadata": {},
     "output_type": "execute_result"
    }
   ],
   "source": [
    "res[0]['retrieval_res']['retrieval_0'].keys()"
   ]
  },
  {
   "cell_type": "code",
   "execution_count": 34,
   "metadata": {},
   "outputs": [],
   "source": [
    "new_res = []"
   ]
  },
  {
   "cell_type": "code",
   "execution_count": 1,
   "metadata": {},
   "outputs": [],
   "source": [
    "import numpy as np\n",
    "import json"
   ]
  },
  {
   "cell_type": "code",
   "execution_count": 36,
   "metadata": {},
   "outputs": [],
   "source": [
    "for ind, item in enumerate(res):\n",
    "    data_item = data[ind]\n",
    "    question = data_item['question']\n",
    "    item_ = item.copy()\n",
    "    item_['question'] = question\n",
    "    for i in range(5):\n",
    "        item_[f'ret_{i}'] = item['retrieval_res'][f'retrieval_{i}']['pred']\n",
    "        item_[f'ret_{i}_log_probs'] = item['retrieval_res'][f'retrieval_{i}']['id_log_probs']\n",
    "        ctx_ = data_item['ctxs'][i]\n",
    "        item_[f'ret_{i}_ctx'] = f\"{ctx_['title']}\\n{ctx_['text']}\"\n",
    "        item_[f'ret_{i}_ctx_score'] = ctx_['score']\n",
    "        item_[f\"ret_{i}_scores\"] = {\"qa\": 0, \"qc\": 0, \"ca\": 0, \"ret_score\": ctx_['score']}\n",
    "        \n",
    "    item_['all_doc_retrieval_ctx'] = '\\n'.join([f\"{ctx['title']}\\n{ctx['text']}\" for ctx in data_item['ctxs'][:5]])\n",
    "    item_['all_doc_retrieval_ctx_score'] = np.mean([float(ctx['score']) for ctx in data_item['ctxs'][:5]])\n",
    "    item_['all_doc_retrieval_scores'] = {\"qa\": 0, \"qc\": 0, \"ca\": 0, \"ret_score\": np.mean([float(ctx['score']) for ctx in data_item['ctxs'][:5]])}\n",
    "    \n",
    "    item_[\"no_retrieval_scores\"] = {\"qa\": 0, \"qc\": 0, \"ca\": 0, \"ret_score\": np.mean([float(ctx['score']) for ctx in data_item['ctxs'][:5]])}\n",
    "    new_res.append(item_)\n",
    "    \n",
    "with open(\"pending_process\\llama2chat-pqa.json\", \"w\") as f:\n",
    "    json.dump(new_res, f)\n",
    "\n"
   ]
  },
  {
   "cell_type": "code",
   "execution_count": 8,
   "metadata": {},
   "outputs": [],
   "source": [
    "a = np.float32(0.0)\n",
    "np.float64(a)\n",
    "from functools import singledispatch\n",
    "import json\n",
    "\n",
    "@singledispatch\n",
    "def to_serializable(val):\n",
    "    \"\"\"Used by default.\"\"\"\n",
    "    return str(val)\n",
    "\n",
    "\n",
    "@to_serializable.register(np.float32)\n",
    "def ts_float32(val):\n",
    "    \"\"\"Used if *val* is an instance of numpy.float32.\"\"\"\n",
    "    return np.float64(val)\n",
    "with open(\"test.json\", \"w\") as f:\n",
    "    json.dump({\"a\":a}, f, default=to_serializable)"
   ]
  },
  {
   "cell_type": "code",
   "execution_count": 10,
   "metadata": {},
   "outputs": [],
   "source": [
    "from utils import *\n",
    "import os\n",
    "from selfcheckGPT_wrapper import MyNLI\n",
    "import numpy as np\n",
    "import json\n",
    "from dotenv import load_dotenv, find_dotenv\n",
    "from functools import singledispatch\n",
    "\n",
    "load_dotenv(find_dotenv())\n",
    "MODEL_ROOT = os.environ.get(\"model_path\")\n",
    "\n",
    "model_path = f\"{MODEL_ROOT}/deberta-v3-large-mnli\"\n",
    "selfcheck_nli = MyNLI(model_path)\n",
    "# probs = selfcheck_nli.compute_nli_score(examples)\n",
    "\n",
    "res = []\n",
    "data = load_file(\"llama2chat-pqa.json\")\n",
    "for i, data_item_ in enumerate(data):\n",
    "    data_item = data_item_.copy()\n",
    "    pred_types = [\"all_doc_retrieval\", \"no_retrieval\", \"ret_0\", \"ret_1\", \"ret_2\", \"ret_3\", \"ret_4\"]\n",
    "    q = data_item[\"question\"]\n",
    "    for pred_type in pred_types:\n",
    "        a = data_item[pred_type]\n",
    "        \n",
    "        if pred_type != 'no_retrieval':\n",
    "            c = data_item[pred_type + \"_ctx\"]\n",
    "            nil_candidates = [(q, a), (q, c), (c, a)]\n",
    "        else:\n",
    "            nil_candidates = [(q, a)]\n",
    "        nil_scores = selfcheck_nli.compute_nli_score(nil_candidates).cpu().detach().numpy()\n",
    "        data_item[pred_type + \"_scores\"]['qa'] = nil_scores[0][0]\n",
    "        if pred_type != 'no_retrieval':\n",
    "            data_item[pred_type + \"_scores\"]['qc'] = nil_scores[1][0]\n",
    "            data_item[pred_type + \"_scores\"]['ca'] = nil_scores[2][0]\n",
    "\n",
    "    data_item[\"no_retrieval_scores\"]['qc'] = np.mean([data_item[f\"ret_{i}_scores\"]['qc'] for i in range(5)] + [data_item[\"all_doc_retrieval_scores\"]['qc']])\n",
    "    data_item[\"no_retrieval_scores\"]['ca'] = np.mean([data_item[f\"ret_{i}_scores\"]['ca'] for i in range(5)] + [data_item[\"all_doc_retrieval_scores\"]['ca']])\n",
    "    res.append(data_item)\n",
    "\n",
    "\n",
    "@singledispatch\n",
    "def to_serializable(val):\n",
    "    \"\"\"Used by default.\"\"\"\n",
    "    return str(val)\n",
    "\n",
    "\n",
    "@to_serializable.register(np.float32)\n",
    "def ts_float32(val):\n",
    "    \"\"\"Used if *val* is an instance of numpy.float32.\"\"\"\n",
    "    return np.float64(val)\n",
    "with open(\"llama2chat-pqa_processed.json\", \"w\") as f:\n",
    "    json.dump(res, f, default=to_serializable)"
   ]
  },
  {
   "cell_type": "code",
   "execution_count": null,
   "metadata": {},
   "outputs": [],
   "source": []
  }
 ],
 "metadata": {
  "kernelspec": {
   "display_name": "Python 3",
   "language": "python",
   "name": "python3"
  },
  "language_info": {
   "codemirror_mode": {
    "name": "ipython",
    "version": 3
   },
   "file_extension": ".py",
   "mimetype": "text/x-python",
   "name": "python",
   "nbconvert_exporter": "python",
   "pygments_lexer": "ipython3",
   "version": "3.10.10"
  }
 },
 "nbformat": 4,
 "nbformat_minor": 2
}
