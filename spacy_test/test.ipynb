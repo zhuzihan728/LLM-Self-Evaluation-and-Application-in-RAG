{
 "cells": [
  {
   "cell_type": "code",
   "execution_count": 9,
   "metadata": {},
   "outputs": [],
   "source": [
    "import spacy"
   ]
  },
  {
   "cell_type": "code",
   "execution_count": 10,
   "metadata": {},
   "outputs": [
    {
     "name": "stdout",
     "output_type": "stream",
     "text": [
      "[\"Which magazine was started first Arthur's Magazine or First for Women?\"]\n"
     ]
    }
   ],
   "source": [
    "\n",
    "\n",
    "# Load the English NLP model\n",
    "nlp = spacy.load(\"en_core_web_sm\")\n",
    "\n",
    "text = \"Which magazine was started first Arthur's Magazine or First for Women?\"\n",
    "\n",
    "# Process the text\n",
    "doc = nlp(text)\n",
    "\n",
    "# We'll collect start points for sentences here\n",
    "break_points = [0]  # start of the first sentence\n",
    "simple_sentences = []\n",
    "\n",
    "# Analyze the sentence to find potential break points\n",
    "for token in doc:\n",
    "    # Here we look for coordinating conjunctions or subordinating conjunctions\n",
    "    if token.dep_ in ('mark', 'advcl') and token.head.pos_ in ('VERB', 'ADJ'):\n",
    "        break_points.append(token.idx)\n",
    "\n",
    "# Now, we need to add one more break point for the end of the sentence\n",
    "break_points.append(len(text))\n",
    "\n",
    "# Extract the sentences based on these break points\n",
    "for i in range(1, len(break_points)):\n",
    "    sentence = text[break_points[i-1]:break_points[i]].strip(\", \")\n",
    "    if sentence:\n",
    "        simple_sentences.append(sentence)\n",
    "\n",
    "print(simple_sentences)\n"
   ]
  }
 ],
 "metadata": {
  "kernelspec": {
   "display_name": "Python 3",
   "language": "python",
   "name": "python3"
  },
  "language_info": {
   "codemirror_mode": {
    "name": "ipython",
    "version": 3
   },
   "file_extension": ".py",
   "mimetype": "text/x-python",
   "name": "python",
   "nbconvert_exporter": "python",
   "pygments_lexer": "ipython3",
   "version": "3.10.10"
  }
 },
 "nbformat": 4,
 "nbformat_minor": 2
}
